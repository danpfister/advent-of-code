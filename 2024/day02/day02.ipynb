{
 "cells": [
  {
   "cell_type": "code",
   "execution_count": 82,
   "metadata": {},
   "outputs": [],
   "source": [
    "import numpy as np"
   ]
  },
  {
   "cell_type": "code",
   "execution_count": 83,
   "metadata": {},
   "outputs": [],
   "source": [
    "inputfile = open(r'input.txt', 'r')\n",
    "inputdata = np.asarray([line.strip() for line in inputfile])"
   ]
  },
  {
   "cell_type": "code",
   "execution_count": 84,
   "metadata": {},
   "outputs": [
    {
     "name": "stdout",
     "output_type": "stream",
     "text": [
      "part 1: 564\n",
      "part 2: 604\n"
     ]
    }
   ],
   "source": [
    "part1 = 0\n",
    "part2 = 0\n",
    "for input in inputdata:\n",
    "    report = np.asarray([int(level) for level in input.split()])\n",
    "    passed = False\n",
    "\n",
    "    # passes without problem dampener\n",
    "    if np.all((report == np.sort(report)) | (report == np.sort(report)[::-1])):\n",
    "        differences = np.convolve(report, [-1, 1], mode='valid')\n",
    "        if np.all((differences >= -3) & (differences <= 3) & (differences != 0)):\n",
    "            part1 += 1\n",
    "            part2 += 1\n",
    "            continue\n",
    "    \n",
    "    # check if it passes with dampener\n",
    "    for i in range(len(report)):\n",
    "        if passed: break\n",
    "        mask = (np.arange(len(report)) == i) ^ 1\n",
    "        modified_report = report[mask == 1]\n",
    "        if np.all(np.array_equal(modified_report, np.sort(modified_report)) | np.array_equal(modified_report, np.sort(modified_report)[::-1])):\n",
    "            differences = np.convolve(modified_report, [-1, 1], mode='valid')\n",
    "            if np.all((differences >= -3) & (differences <= 3) & (differences != 0)):\n",
    "                part2 += 1\n",
    "                passed = True\n",
    "print(f\"part 1: {part1}\\npart 2: {part2}\")\n"
   ]
  }
 ],
 "metadata": {
  "kernelspec": {
   "display_name": "Python 3",
   "language": "python",
   "name": "python3"
  },
  "language_info": {
   "codemirror_mode": {
    "name": "ipython",
    "version": 3
   },
   "file_extension": ".py",
   "mimetype": "text/x-python",
   "name": "python",
   "nbconvert_exporter": "python",
   "pygments_lexer": "ipython3",
   "version": "3.8.10"
  }
 },
 "nbformat": 4,
 "nbformat_minor": 2
}
