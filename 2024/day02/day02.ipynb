{
 "cells": [
  {
   "cell_type": "code",
   "execution_count": 57,
   "metadata": {},
   "outputs": [],
   "source": [
    "import numpy as np"
   ]
  },
  {
   "cell_type": "code",
   "execution_count": 58,
   "metadata": {},
   "outputs": [],
   "source": [
    "inputfile = open(r'input.txt', 'r')\n",
    "inputdata = np.asarray([line.strip() for line in inputfile])"
   ]
  },
  {
   "cell_type": "code",
   "execution_count": 59,
   "metadata": {},
   "outputs": [
    {
     "name": "stdout",
     "output_type": "stream",
     "text": [
      "2\n"
     ]
    }
   ],
   "source": [
    "safe = 0\n",
    "for input in inputdata:\n",
    "    report = np.asarray([int(level) for level in input.split()])\n",
    "    if np.all((report == np.sort(report)) | (report == np.sort(report)[::-1])):\n",
    "        differences = np.convolve(report, [-1, 1], mode='valid')\n",
    "        if np.all((differences >= -3) & (differences <= 3) & (differences != 0)):\n",
    "            safe += 1\n",
    "print(safe)"
   ]
  },
  {
   "cell_type": "code",
   "execution_count": null,
   "metadata": {},
   "outputs": [
    {
     "name": "stdout",
     "output_type": "stream",
     "text": [
      "[7 6 4 2 1]\n",
      "[1 2 4 5]\n",
      "[1 2 4 5]\n",
      "[8 6 4 1]\n",
      "[1 4 6 8]\n",
      "[1 3 6 7 9]\n",
      "[5 7 5 8]\n",
      "[5 5 7 8]\n",
      "5\n"
     ]
    }
   ],
   "source": [
    "safe = 0\n",
    "for input in inputdata:\n",
    "    report = np.asarray([int(level) for level in input.split()])\n",
    "    passed = False\n",
    "\n",
    "    # passes without problem dampener\n",
    "    if np.all((report == np.sort(report)) | (report == np.sort(report)[::-1])):\n",
    "        differences = np.convolve(report, [-1, 1], mode='valid')\n",
    "        if np.all((differences >= -3) & (differences <= 3) & (differences != 0)):\n",
    "            safe += 1\n",
    "            print(report)\n",
    "            continue\n",
    "    \n",
    "    # check if it passes with dampener\n",
    "    for i in range(len(report)):\n",
    "        if passed: break\n",
    "        mask = (np.arange(len(report)) == i) ^ 1\n",
    "        modified_report = report[mask == 1]\n",
    "        if np.all((modified_report == np.sort(modified_report)) & (modified_report == np.sort(modified_report)[::-1])):\n",
    "            differences = np.convolve(modified_report, [-1, 1], mode='valid')\n",
    "            if np.all((differences >= -3) & (differences <= 3) & (differences != 0)):\n",
    "                safe += 1\n",
    "                passed = True\n",
    "                print(modified_report)\n",
    "                print(np.sort(modified_report))\n",
    "print(safe)\n"
   ]
  },
  {
   "cell_type": "code",
   "execution_count": null,
   "metadata": {},
   "outputs": [],
   "source": []
  }
 ],
 "metadata": {
  "kernelspec": {
   "display_name": "Python 3",
   "language": "python",
   "name": "python3"
  },
  "language_info": {
   "codemirror_mode": {
    "name": "ipython",
    "version": 3
   },
   "file_extension": ".py",
   "mimetype": "text/x-python",
   "name": "python",
   "nbconvert_exporter": "python",
   "pygments_lexer": "ipython3",
   "version": "3.8.10"
  }
 },
 "nbformat": 4,
 "nbformat_minor": 2
}
