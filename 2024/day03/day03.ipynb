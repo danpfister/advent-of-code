{
 "cells": [
  {
   "cell_type": "code",
   "execution_count": 16,
   "metadata": {},
   "outputs": [],
   "source": [
    "import numpy as np\n",
    "import regex as re\n",
    "inputfile = open(r'input.txt', 'r')\n",
    "inputdata = np.asarray([line.strip() for line in inputfile])"
   ]
  },
  {
   "cell_type": "code",
   "execution_count": 17,
   "metadata": {},
   "outputs": [
    {
     "name": "stdout",
     "output_type": "stream",
     "text": [
      "155955228\n"
     ]
    }
   ],
   "source": [
    "part1 = 0\n",
    "for input in inputdata:\n",
    "    muls = re.findall(r'mul\\((\\d+),(\\d+)\\)', input)\n",
    "    part1 += sum([int(mul[0]) * int(mul[1]) for mul in muls])\n",
    "print(part1)\n"
   ]
  },
  {
   "cell_type": "code",
   "execution_count": 18,
   "metadata": {},
   "outputs": [
    {
     "name": "stdout",
     "output_type": "stream",
     "text": [
      "100189366\n"
     ]
    }
   ],
   "source": [
    "part2 = 0\n",
    "enabled = True\n",
    "for input in inputdata:\n",
    "    ops = re.findall(r\"mul\\((\\d+),(\\d+)\\)|(don't|do)\", input)\n",
    "    # op is either of form ('268', '621', '') or ('', '', \"don't\")\n",
    "    for op in ops:\n",
    "        if op[2] == '':\n",
    "            if not enabled: continue\n",
    "            part2 += int(op[0]) * int(op[1])\n",
    "        else:\n",
    "            if op[2] == \"do\": enabled = True\n",
    "            elif op[2] == \"don't\": enabled = False\n",
    "print(part2)\n",
    "    "
   ]
  }
 ],
 "metadata": {
  "kernelspec": {
   "display_name": "Python 3",
   "language": "python",
   "name": "python3"
  },
  "language_info": {
   "codemirror_mode": {
    "name": "ipython",
    "version": 3
   },
   "file_extension": ".py",
   "mimetype": "text/x-python",
   "name": "python",
   "nbconvert_exporter": "python",
   "pygments_lexer": "ipython3",
   "version": "3.8.10"
  }
 },
 "nbformat": 4,
 "nbformat_minor": 2
}
