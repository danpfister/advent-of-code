{
 "cells": [
  {
   "cell_type": "code",
   "execution_count": 137,
   "metadata": {},
   "outputs": [
    {
     "data": {
      "text/plain": [
       "(140, 140)"
      ]
     },
     "execution_count": 137,
     "metadata": {},
     "output_type": "execute_result"
    }
   ],
   "source": [
    "import numpy as np\n",
    "import regex as re\n",
    "inputfile = open(r'input.txt', 'r')\n",
    "inputdata = np.asarray([[c for c in line.strip()] for line in inputfile])\n",
    "inputdata.shape"
   ]
  },
  {
   "cell_type": "code",
   "execution_count": null,
   "metadata": {},
   "outputs": [
    {
     "name": "stdout",
     "output_type": "stream",
     "text": [
      "2517\n"
     ]
    }
   ],
   "source": [
    "part1 = 0\n",
    "\n",
    "# vertical\n",
    "for row in range(inputdata.shape[0]):\n",
    "    part1 += ''.join(inputdata[row]).count('XMAS')\n",
    "    part1 += ''.join(inputdata[row]).count('SAMX')\n",
    "\n",
    "# horizontal\n",
    "for col in range(inputdata.shape[1]):\n",
    "    part1 += ''.join(inputdata[:, col]).count('XMAS')\n",
    "    part1 += ''.join(inputdata[:, col]).count('SAMX')\n",
    "\n",
    "# top left to bottom right diagonal\n",
    "for offset in range(-inputdata.shape[0], inputdata.shape[1]):\n",
    "    diagonal = np.diagonal(inputdata, offset=offset)\n",
    "    part1 += ''.join(diagonal).count('XMAS')\n",
    "    part1 += ''.join(diagonal).count('SAMX')\n",
    "\n",
    "# top right to bottom left diagonal\n",
    "for offset in range(-inputdata.shape[0], inputdata.shape[1]):\n",
    "    diagonal = np.diagonal(np.rot90(inputdata), offset=offset)\n",
    "    part1 += ''.join(diagonal).count('XMAS')\n",
    "    part1 += ''.join(diagonal).count('SAMX')\n",
    "\n",
    "print(part1)"
   ]
  },
  {
   "cell_type": "code",
   "execution_count": null,
   "metadata": {},
   "outputs": [
    {
     "name": "stdout",
     "output_type": "stream",
     "text": [
      "1960\n"
     ]
    }
   ],
   "source": [
    "part2 = 0\n",
    "\n",
    "for row in range(1, inputdata.shape[0]-1):\n",
    "    for col in range(1, inputdata.shape[1]-1):\n",
    "        if not inputdata[row, col] == 'A': continue\n",
    "        tl = inputdata[row-1, col-1] # top left\n",
    "        bl = inputdata[row-1, col+1] # bottom left\n",
    "        br = inputdata[row+1, col+1] # bottom right\n",
    "        tr = inputdata[row+1, col-1] # top right\n",
    "        # only 4 possible patterns\n",
    "        if ((tl == 'M' and bl == 'M' and br == 'S' and tr == 'S') or\n",
    "            (tl == 'M' and bl == 'S' and br == 'S' and tr == 'M') or\n",
    "            (tl == 'S' and bl == 'S' and br == 'M' and tr == 'M') or\n",
    "            (tl == 'S' and bl == 'M' and br == 'M' and tr == 'S')):\n",
    "            part2 += 1\n",
    "            \n",
    "print(part2)"
   ]
  }
 ],
 "metadata": {
  "kernelspec": {
   "display_name": "Python 3",
   "language": "python",
   "name": "python3"
  },
  "language_info": {
   "codemirror_mode": {
    "name": "ipython",
    "version": 3
   },
   "file_extension": ".py",
   "mimetype": "text/x-python",
   "name": "python",
   "nbconvert_exporter": "python",
   "pygments_lexer": "ipython3",
   "version": "3.8.10"
  }
 },
 "nbformat": 4,
 "nbformat_minor": 2
}
