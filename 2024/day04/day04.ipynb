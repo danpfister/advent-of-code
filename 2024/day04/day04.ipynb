{
 "cells": [
  {
   "cell_type": "code",
   "execution_count": 134,
   "metadata": {},
   "outputs": [
    {
     "data": {
      "text/plain": [
       "(140, 140)"
      ]
     },
     "execution_count": 134,
     "metadata": {},
     "output_type": "execute_result"
    }
   ],
   "source": [
    "import numpy as np\n",
    "import regex as re\n",
    "inputfile = open(r'input.txt', 'r')\n",
    "inputdata = np.asarray([[c for c in line.strip()] for line in inputfile])\n",
    "inputdata.shape"
   ]
  },
  {
   "cell_type": "code",
   "execution_count": 135,
   "metadata": {},
   "outputs": [
    {
     "name": "stdout",
     "output_type": "stream",
     "text": [
      "2517\n"
     ]
    }
   ],
   "source": [
    "part1 = 0\n",
    "\n",
    "# vertical\n",
    "for row in range(inputdata.shape[0]):\n",
    "    part1 += ''.join(inputdata[row]).count('XMAS')\n",
    "    part1 += ''.join(inputdata[row]).count('SAMX')\n",
    "\n",
    "# horizontal\n",
    "for col in range(inputdata.shape[1]):\n",
    "    part1 += ''.join(inputdata[:, col]).count('XMAS')\n",
    "    part1 += ''.join(inputdata[:, col]).count('SAMX')\n",
    "\n",
    "# top left to bottom right diagonal\n",
    "for offset in range(-inputdata.shape[0], inputdata.shape[1]):\n",
    "    diagonal = np.diagonal(inputdata, offset=offset)\n",
    "    part1 += ''.join(diagonal).count('XMAS')\n",
    "    part1 += ''.join(diagonal).count('SAMX')\n",
    "\n",
    "# top right to bottom left diagonal\n",
    "for offset in range(-inputdata.shape[0], inputdata.shape[1]):\n",
    "    diagonal = np.diagonal(np.rot90(inputdata), offset=offset)\n",
    "    part1 += ''.join(diagonal).count('XMAS')\n",
    "    part1 += ''.join(diagonal).count('SAMX')\n",
    "\n",
    "print(part1)"
   ]
  },
  {
   "cell_type": "code",
   "execution_count": 136,
   "metadata": {},
   "outputs": [
    {
     "name": "stdout",
     "output_type": "stream",
     "text": [
      "1960\n"
     ]
    }
   ],
   "source": [
    "part2 = 0\n",
    "\n",
    "for row in range(1, inputdata.shape[0]-1):\n",
    "    for col in range(1, inputdata.shape[1]-1):\n",
    "        if not inputdata[row, col] == 'A': continue\n",
    "        if ((inputdata[row-1, col-1] == 'M' and\n",
    "             inputdata[row-1, col+1] == 'M' and\n",
    "             inputdata[row+1, col+1] == 'S' and\n",
    "             inputdata[row+1, col-1] == 'S') or\n",
    "            (inputdata[row-1, col-1] == 'M' and\n",
    "             inputdata[row-1, col+1] == 'S' and\n",
    "             inputdata[row+1, col+1] == 'S' and\n",
    "             inputdata[row+1, col-1] == 'M') or\n",
    "            (inputdata[row-1, col-1] == 'S' and\n",
    "             inputdata[row-1, col+1] == 'S' and\n",
    "             inputdata[row+1, col+1] == 'M' and\n",
    "             inputdata[row+1, col-1] == 'M') or\n",
    "            (inputdata[row-1, col-1] == 'S' and\n",
    "             inputdata[row-1, col+1] == 'M' and\n",
    "             inputdata[row+1, col+1] == 'M' and\n",
    "             inputdata[row+1, col-1] == 'S')):\n",
    "            part2 += 1\n",
    "            \n",
    "print(part2)"
   ]
  }
 ],
 "metadata": {
  "kernelspec": {
   "display_name": "Python 3",
   "language": "python",
   "name": "python3"
  },
  "language_info": {
   "codemirror_mode": {
    "name": "ipython",
    "version": 3
   },
   "file_extension": ".py",
   "mimetype": "text/x-python",
   "name": "python",
   "nbconvert_exporter": "python",
   "pygments_lexer": "ipython3",
   "version": "3.8.10"
  }
 },
 "nbformat": 4,
 "nbformat_minor": 2
}
