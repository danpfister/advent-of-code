{
 "cells": [
  {
   "cell_type": "code",
   "execution_count": null,
   "metadata": {},
   "outputs": [],
   "source": [
    "import numpy as np\n",
    "inputfile = open(r'input.txt', 'r')\n",
    "inputdata = [line.strip() for line in inputfile]"
   ]
  },
  {
   "cell_type": "code",
   "execution_count": null,
   "metadata": {},
   "outputs": [],
   "source": [
    "index = 0\n",
    "for i, input in enumerate(inputdata):\n",
    "    if input == '': index = i\n",
    "rules = inputdata[:index]\n",
    "updates = inputdata[index+1:]"
   ]
  },
  {
   "cell_type": "code",
   "execution_count": null,
   "metadata": {},
   "outputs": [],
   "source": [
    "rules = [line.split(\"|\") for line in rules]\n",
    "updates = [line.split(\",\") for line in updates]"
   ]
  },
  {
   "cell_type": "code",
   "execution_count": null,
   "metadata": {},
   "outputs": [],
   "source": [
    "part1 = 0\n",
    "incorrect_updates = []\n",
    "for update in updates: # update: 75,47,61,53,29\n",
    "    correct = True\n",
    "    for page in update: # page: 75\n",
    "        if not correct: break # early stop\n",
    "        for check in [r[1] for r in rules if r[0] == page]:\n",
    "            if check in update and update.index(check) < update.index(page):\n",
    "                incorrect_updates.append(update)\n",
    "                correct = False       \n",
    "    if correct: part1 += int(update[int(len(update)/2)])\n",
    "print(part1)"
   ]
  },
  {
   "cell_type": "code",
   "execution_count": null,
   "metadata": {},
   "outputs": [],
   "source": [
    "def swap(values, value1, value2):\n",
    "    index1 = values.index(value1)\n",
    "    index2 = values.index(value2)\n",
    "\n",
    "    values[index1], values[index2] = values[index2], values[index1]\n",
    "\n",
    "    return values"
   ]
  },
  {
   "cell_type": "code",
   "execution_count": null,
   "metadata": {},
   "outputs": [],
   "source": [
    "part2 = 0\n",
    "for update in incorrect_updates: # update: 75,47,61,53,29\n",
    "    for i in range(len(update)):\n",
    "        for j in range(i+1, len(update)):\n",
    "            a, b = update[i], update[j] # b|a\n",
    "            if [b, a] in rules:\n",
    "                update.remove(b)\n",
    "                update.insert(update.index(a), b)\n",
    "                print(f\"swapped: {update[i]} and {update[j]}\\n{update}\")\n",
    "    part2 += int(update[int(len(update)/2)])\n",
    "    print(f\"correct: {update}\")\n",
    "print(part2)"
   ]
  }
 ],
 "metadata": {
  "kernelspec": {
   "display_name": "Python 3",
   "language": "python",
   "name": "python3"
  },
  "language_info": {
   "codemirror_mode": {
    "name": "ipython",
    "version": 3
   },
   "file_extension": ".py",
   "mimetype": "text/x-python",
   "name": "python",
   "nbconvert_exporter": "python",
   "pygments_lexer": "ipython3",
   "version": "3.8.10"
  }
 },
 "nbformat": 4,
 "nbformat_minor": 2
}
