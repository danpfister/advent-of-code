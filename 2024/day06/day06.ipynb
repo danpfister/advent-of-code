{
 "cells": [
  {
   "cell_type": "code",
   "execution_count": 442,
   "metadata": {},
   "outputs": [],
   "source": [
    "import numpy as np\n",
    "inputfile = open(r'input.txt', 'r')\n",
    "inputdata = np.asarray([[c for c in line.strip()] for line in inputfile])"
   ]
  },
  {
   "cell_type": "code",
   "execution_count": 443,
   "metadata": {},
   "outputs": [],
   "source": [
    "obstructions = set()\n",
    "[obstructions.add((x, y)) for x, y in np.argwhere(inputdata == '#')] # collect obstructions in set\n",
    "directions = [\n",
    "    (-1, 0),    # up\n",
    "    (0, 1),     # right\n",
    "    (1, 0),     # down\n",
    "    (0, -1)     # left\n",
    "]"
   ]
  },
  {
   "cell_type": "code",
   "execution_count": 444,
   "metadata": {},
   "outputs": [],
   "source": [
    "start_pos = np.argwhere(inputdata == '^')[0]"
   ]
  },
  {
   "cell_type": "code",
   "execution_count": 445,
   "metadata": {},
   "outputs": [],
   "source": [
    "# part 1\n",
    "current_pos = start_pos\n",
    "current_dir = 0 # start with up\n",
    "visited = set()\n",
    "\n",
    "while (current_pos[0] in range(inputdata.shape[0]) and current_pos[1] in range(inputdata.shape[1])):\n",
    "    visited.add((current_pos[0], current_pos[1]))\n",
    "    dx, dy = directions[current_dir]\n",
    "    while (current_pos[0] + dx, current_pos[1] + dy) in obstructions:\n",
    "        current_dir = (current_dir + 1) % 4\n",
    "        dx, dy = directions[current_dir]\n",
    "    current_pos = [current_pos[0] + dx, current_pos[1] + dy]"
   ]
  },
  {
   "cell_type": "code",
   "execution_count": 446,
   "metadata": {},
   "outputs": [
    {
     "name": "stdout",
     "output_type": "stream",
     "text": [
      "part 1: 5239\n"
     ]
    }
   ],
   "source": [
    "print(f\"part 1: {len(visited)}\")"
   ]
  },
  {
   "cell_type": "code",
   "execution_count": 447,
   "metadata": {},
   "outputs": [],
   "source": [
    "# part 2\n",
    "part2 = 0\n",
    "\n",
    "for x, y in visited: # only need to check positions the guard has visited\n",
    "    new_obstructions = obstructions.union({(x, y)})\n",
    "    visited_directions = set()\n",
    "    current_pos = start_pos\n",
    "    current_dir = 0\n",
    "\n",
    "    while current_pos[0] in range(inputdata.shape[0]) and current_pos[1] in range(inputdata.shape[1]):\n",
    "        if (current_pos[0], current_pos[1], current_dir) in visited_directions:\n",
    "            part2 += 1\n",
    "            break\n",
    "        visited_directions.add((current_pos[0], current_pos[1], current_dir))\n",
    "        dx, dy = directions[current_dir]\n",
    "        while (current_pos[0] + dx, current_pos[1] + dy) in new_obstructions:\n",
    "            current_dir = (current_dir + 1) % 4\n",
    "            dx, dy = directions[current_dir]\n",
    "        current_pos = [current_pos[0] + dx, current_pos[1] + dy]\n"
   ]
  },
  {
   "cell_type": "code",
   "execution_count": 448,
   "metadata": {},
   "outputs": [
    {
     "name": "stdout",
     "output_type": "stream",
     "text": [
      "part 2: 1753\n"
     ]
    }
   ],
   "source": [
    "# brute force hell yeah - takes almost 6 minutes to run but whatever\n",
    "print(f\"part 2: {part2}\")"
   ]
  }
 ],
 "metadata": {
  "language_info": {
   "name": "python"
  }
 },
 "nbformat": 4,
 "nbformat_minor": 2
}
