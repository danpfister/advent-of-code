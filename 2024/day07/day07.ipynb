{
 "cells": [
  {
   "cell_type": "code",
   "execution_count": 78,
   "metadata": {},
   "outputs": [],
   "source": [
    "import numpy as np\n",
    "import itertools as iter\n",
    "inputfile = open(r'input.txt', 'r')\n",
    "inputdata = [line.strip() for line in inputfile]"
   ]
  },
  {
   "cell_type": "code",
   "execution_count": 79,
   "metadata": {},
   "outputs": [],
   "source": [
    "part1 = 0\n",
    "\n",
    "for equation in inputdata:\n",
    "    result = int(equation.split(\":\")[0])\n",
    "    values = [int(v) for v in equation.split(\":\")[1].split()]\n",
    "    permutations = list(iter.product((0, 1), repeat=len(values)-1))\n",
    "    for p in permutations:\n",
    "        temp = values[0]\n",
    "        i = 1\n",
    "        for op in p:\n",
    "            if op == 0: # add\n",
    "                temp += values[i]\n",
    "            else: # mul\n",
    "                temp *= values[i]\n",
    "            i += 1\n",
    "            if temp > result: break # early stop if larger\n",
    "        if temp == result: # found permutation\n",
    "            part1 += result\n",
    "            break\n",
    "\n",
    "    "
   ]
  },
  {
   "cell_type": "code",
   "execution_count": 80,
   "metadata": {},
   "outputs": [
    {
     "name": "stdout",
     "output_type": "stream",
     "text": [
      "part 1: 5702958180383\n"
     ]
    }
   ],
   "source": [
    "print(f\"part 1: {part1}\")"
   ]
  },
  {
   "cell_type": "code",
   "execution_count": 81,
   "metadata": {},
   "outputs": [],
   "source": [
    "part2 = 0\n",
    "\n",
    "for equation in inputdata:\n",
    "    result = int(equation.split(\":\")[0])\n",
    "    values = [int(v) for v in equation.split(\":\")[1].split()]\n",
    "    permutations = list(iter.product((0, 1, 2), repeat=len(values)-1))\n",
    "\n",
    "    for p in permutations:\n",
    "        temp = values[0]\n",
    "        i = 1\n",
    "        for op in p:\n",
    "            if op == 0: # add\n",
    "                temp += values[i]\n",
    "            elif op == 1: # mul\n",
    "                temp *= values[i]\n",
    "            else: # concat\n",
    "                temp = int(f\"{temp}{values[i]}\")\n",
    "            i += 1\n",
    "            if temp > result: break # early stop if larger\n",
    "        if temp == result: # found permutation\n",
    "            part2 += result\n",
    "            break"
   ]
  },
  {
   "cell_type": "code",
   "execution_count": 82,
   "metadata": {},
   "outputs": [
    {
     "name": "stdout",
     "output_type": "stream",
     "text": [
      "part 2: 92612386119138\n"
     ]
    }
   ],
   "source": [
    "print(f\"part 2: {part2}\")"
   ]
  }
 ],
 "metadata": {
  "language_info": {
   "name": "python"
  }
 },
 "nbformat": 4,
 "nbformat_minor": 2
}
