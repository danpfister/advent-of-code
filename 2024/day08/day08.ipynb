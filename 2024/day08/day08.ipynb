{
 "cells": [
  {
   "cell_type": "code",
   "execution_count": 27,
   "metadata": {},
   "outputs": [],
   "source": [
    "import numpy as np\n",
    "import itertools as iter\n",
    "import math\n",
    "inputfile = open(r'input.txt', 'r')\n",
    "inputdata = np.asarray([[c for c in line.strip()] for line in inputfile])"
   ]
  },
  {
   "cell_type": "code",
   "execution_count": 28,
   "metadata": {},
   "outputs": [],
   "source": [
    "frequencies = \"abcdefghijklmnopqrstuvwxyzABCDEFGHIJKLMNOPQRSTUVWXYZ0123456789\""
   ]
  },
  {
   "cell_type": "code",
   "execution_count": 29,
   "metadata": {},
   "outputs": [],
   "source": [
    "part1 = set() # only want unique locations\n",
    "for f in frequencies:\n",
    "    locations = np.argwhere(inputdata == f)\n",
    "    if len(locations) < 2: continue\n",
    "    permutations = list(iter.permutations(list(range(len(locations))), 2)) # get all pairwise permutations of antennas\n",
    "    for a1, a2 in permutations:\n",
    "        antinode = (\n",
    "            locations[a2][0] + (locations[a2][0] - locations[a1][0]),\n",
    "            locations[a2][1] + (locations[a2][1] - locations[a1][1])\n",
    "        )\n",
    "        if antinode[0] in range(inputdata.shape[0]) and antinode[1] in range(inputdata.shape[1]):\n",
    "            part1.add((antinode[0], antinode[1]))"
   ]
  },
  {
   "cell_type": "code",
   "execution_count": 30,
   "metadata": {},
   "outputs": [
    {
     "name": "stdout",
     "output_type": "stream",
     "text": [
      "part 1: 323\n"
     ]
    }
   ],
   "source": [
    "print(f\"part 1: {len(part1)}\")"
   ]
  },
  {
   "cell_type": "code",
   "execution_count": 31,
   "metadata": {},
   "outputs": [],
   "source": [
    "part2 = set()\n",
    "for f in frequencies:\n",
    "    locations = np.argwhere(inputdata == f)\n",
    "    if len(locations) < 2: continue\n",
    "    permutations = list(iter.permutations(list(range(len(locations))), 2))\n",
    "    for a1, a2 in permutations:\n",
    "        gcd = math.gcd(locations[a2][0] - locations[a1][0], locations[a2][1] - locations[a1][1])\n",
    "        dx, dy = (locations[a2][0] - locations[a1][0]) / gcd, (locations[a2][1] - locations[a1][1]) / gcd\n",
    "        antenna1 = (locations[a1][0], locations[a1][1])\n",
    "        i = 0\n",
    "        while (antenna1[0] + i * dx in range(inputdata.shape[0]) and antenna1[1] + i * dy in range(inputdata.shape[1])):\n",
    "            part2.add((antenna1[0] + i * dx, antenna1[1] + i * dy))\n",
    "            i += 1\n",
    "        i = 0\n",
    "        while (antenna1[0] - i * dx in range(inputdata.shape[0]) and antenna1[1] - i * dy in range(inputdata.shape[1])):\n",
    "            part2.add((antenna1[0] - i * dx, antenna1[1] - i * dy))\n",
    "            i -= 1\n"
   ]
  },
  {
   "cell_type": "code",
   "execution_count": 32,
   "metadata": {},
   "outputs": [
    {
     "name": "stdout",
     "output_type": "stream",
     "text": [
      "part 2: 1077\n"
     ]
    }
   ],
   "source": [
    "print(f\"part 2: {len(part2)}\")"
   ]
  }
 ],
 "metadata": {
  "kernelspec": {
   "display_name": "Python 3",
   "language": "python",
   "name": "python3"
  },
  "language_info": {
   "codemirror_mode": {
    "name": "ipython",
    "version": 3
   },
   "file_extension": ".py",
   "mimetype": "text/x-python",
   "name": "python",
   "nbconvert_exporter": "python",
   "pygments_lexer": "ipython3",
   "version": "3.8.10"
  }
 },
 "nbformat": 4,
 "nbformat_minor": 2
}
